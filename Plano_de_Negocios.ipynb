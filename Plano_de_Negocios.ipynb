{
  "nbformat": 4,
  "nbformat_minor": 0,
  "metadata": {
    "colab": {
      "provenance": [],
      "collapsed_sections": [
        "vWKcOaS0lkYg",
        "pMrgZNXMl4Ai",
        "nC9bVPTM8VMO",
        "htQoE3eo8kHJ",
        "dwtuTIWp9GSn",
        "255npWfx_OBm",
        "rvU-J8Vu_vP8",
        "ZVs6rm1O_5xw",
        "c5ATEPovABDP",
        "zhQCBR5gA25Y"
      ],
      "toc_visible": true,
      "authorship_tag": "ABX9TyPGSVM+7m3sPN0xnilDihId",
      "include_colab_link": true
    },
    "kernelspec": {
      "name": "python3",
      "display_name": "Python 3"
    },
    "language_info": {
      "name": "python"
    }
  },
  "cells": [
    {
      "cell_type": "markdown",
      "metadata": {
        "id": "view-in-github",
        "colab_type": "text"
      },
      "source": [
        "<a href=\"https://colab.research.google.com/github/GustavoIgnacioSouza/PlanodeNegociosGemini/blob/main/Plano_de_Negocios.ipynb\" target=\"_parent\"><img src=\"https://colab.research.google.com/assets/colab-badge.svg\" alt=\"Open In Colab\"/></a>"
      ]
    },
    {
      "cell_type": "markdown",
      "source": [
        "# 🕐 Plano de Negócios de Minuto 🕐\n",
        "> Seja bem vindo a um gerador de plano de negócios alimentado pelas tecnologias do Google Gemini.\n",
        "\n",
        "\n",
        "---\n",
        "\n",
        "\n",
        "\n",
        "\n",
        "\n",
        "\n",
        "Ao longo dos próximos minutos você responderá a uma série de perguntas para alimentar o modelo que, em instantes, gerará um plano de negócios completo para você usar em seus próximos projetos 🚀\n"
      ],
      "metadata": {
        "id": "R3VDbD66aTLY"
      }
    },
    {
      "cell_type": "markdown",
      "source": [
        "# 📖 Preenchimento das Informações"
      ],
      "metadata": {
        "id": "2rEQuVP3-E0g"
      }
    },
    {
      "cell_type": "markdown",
      "source": [
        "## ✔️ Objetivos do plano\n",
        "\n",
        "Nessa seção precisamos entender quais os seus objetivos com esse plano de negócios."
      ],
      "metadata": {
        "id": "vWKcOaS0lkYg"
      }
    },
    {
      "cell_type": "code",
      "source": [
        "# @markdown ### Você planja expandir uma operação atual ou iniciar um novo negócio?\n",
        "business_type = 'Iniciar um novo negócio' # @param ['Iniciar um novo negócio', 'Expandir uma operação já existente']\n",
        "# @markdown ### Qual o uso para este plano de negócios?\n",
        "plan_utility = 'Apresentar para investidores' #@param ['Apresentar para bancos', 'Apresentar para investidores', 'Usar como referência para projetos teóricos (faculdade, escola e etc)', 'Uso em projetos pessoais', 'Outros', 'Uso em aplicações não financeiras (franquias, vistos e etc)']\n",
        "# @markdown *Após preencher as informações não se esqueça de rodar o código clicando no ▶️ logo acima.*\n",
        "print(\"Informações salvas com sucesso.\")"
      ],
      "metadata": {
        "cellView": "form",
        "id": "B2wbjjGnfpwz",
        "colab": {
          "base_uri": "https://localhost:8080/"
        },
        "outputId": "0adbe738-352e-42a2-a784-fbe2d21cf889"
      },
      "execution_count": null,
      "outputs": [
        {
          "output_type": "stream",
          "name": "stdout",
          "text": [
            "Informações salvas com sucesso.\n"
          ]
        }
      ]
    },
    {
      "cell_type": "markdown",
      "source": [
        "## ℹ️ Informações do negócio\n",
        "\n",
        "Nessa seção bla bla bla\n",
        "\n",
        "Responda como se fosse para um consultor."
      ],
      "metadata": {
        "id": "pMrgZNXMl4Ai"
      }
    },
    {
      "cell_type": "code",
      "source": [
        "#@markdown ###Qual o nome do seu negócio?\n",
        "business_name = 'Batatatinha123' #@param {type:\"string\"}\n",
        "#@markdown ### Descreva o seu negócio em poucas palavras\n",
        "#@markdown Exemplo: padaria / restaurante / mercado\n",
        "business_description = 'Uma loja que venderá batatas de todos os tipos, tamanhos e formatos' #@param {type:\"string\"}\n",
        "#@markdown ###Quantos funcionários você terá?\n",
        "business_employees = 3 #@param {type:\"integer\"}\n",
        "#@markdown ###Você oferefe um produto ou serviço?\n",
        "#@markdown *Empresas de varejo (como mercados, padarias etc) devem ser consideradas como empresas de serviços*\n",
        "business_branch = \"Serviços\" #@param ['Produtos', 'Serviços']\n",
        "#@markdown ###Como você vende seus produtos/presta seus serviços?\n",
        "business_sales_method = \"Loja física\" #@param ['Loja física', 'Online', 'Ambos']\n",
        "#@markdown ### Onde você atuará?\n",
        "#@markdown *Por exemplo: Porto Alegre e região metropolitana, RS / Brasil / Pará / Estados Unidos e Brasil*\n",
        "business_location = \"Pindamonhangaba \" #@param{type:\"string\"}\n",
        "\n",
        "if business_name == '' or business_description == '' or business_employees <= 0 or business_branch == '' or business_sales_method == '' or business_location == '':\n",
        "  raise Exception(\"Por favor, preencha todas as informações corretamente e rode o código novamente antes de prosseguir.\")\n",
        "\n",
        "#@markdown ---\n",
        "# @markdown *Após preencher as informações não se esqueça de rodar o código clicando no ▶️ logo acima.*\n",
        "print(\"Informações salvas com sucesso.\")"
      ],
      "metadata": {
        "colab": {
          "base_uri": "https://localhost:8080/"
        },
        "cellView": "form",
        "id": "wHMR5LfkmDdZ",
        "outputId": "f35662c9-7f6c-48c5-ec93-d4a96e36d839"
      },
      "execution_count": null,
      "outputs": [
        {
          "output_type": "stream",
          "name": "stdout",
          "text": [
            "Informações salvas com sucesso.\n"
          ]
        }
      ]
    },
    {
      "cell_type": "markdown",
      "source": [
        "## 👩‍👨‍👦 Clientes\n",
        "\n",
        "Nessa seção vamos entender melhor qual o público-alvo que você quer atingir.\n",
        "\n"
      ],
      "metadata": {
        "id": "8i72uhM1vjQH"
      }
    },
    {
      "cell_type": "markdown",
      "source": [
        "### Grupo de Clientes 1\n",
        "Preenchimento obrigatório"
      ],
      "metadata": {
        "id": "rcVN9Lhv47rP"
      }
    },
    {
      "cell_type": "code",
      "source": [
        "#@markdown ### Breve descrição do grupo 1\n",
        "#@markdown Exemplos: Moradores locais, Turistas, Entusiastas de Café\n",
        "costumer_gp1_desc = 'Pessoas que gostam de batata' #@param {type:\"string\"}\n",
        "\n",
        "#@markdown #### Nível de renda do grupo 1\n",
        "costumer_gp1_income = 'Média' #@param ['Baixa', 'Média', 'Alta']\n",
        "\n",
        "if costumer_gp1_desc == '' or costumer_gp1_income == '':\n",
        "  raise Exception(\"Por favor, preencha todas as informações corretamente e rode o código novamente antes de prosseguir.\")\n",
        "\n",
        "#@markdown ---\n",
        "# @markdown *Após preencher as informações não se esqueça de rodar o código clicando no ▶️ logo acima.*\n",
        "print(\"Informações salvas com sucesso.\")"
      ],
      "metadata": {
        "id": "hD2QBlXcvzWP",
        "colab": {
          "base_uri": "https://localhost:8080/"
        },
        "outputId": "3593548b-b0d3-46e3-aac5-dd3e5f88a492"
      },
      "execution_count": null,
      "outputs": [
        {
          "output_type": "stream",
          "name": "stdout",
          "text": [
            "Informações salvas com sucesso.\n"
          ]
        }
      ]
    },
    {
      "cell_type": "markdown",
      "source": [
        "### Grupo de Clientes 2\n",
        "Preenchimento opcional"
      ],
      "metadata": {
        "id": "gOsR693e62kc"
      }
    },
    {
      "cell_type": "code",
      "source": [
        "#@markdown ### Breve descrição do grupo 2\n",
        "#@markdown Exemplos: Moradores locais, Turistas, Entusiastas de Café\n",
        "costumer_gp2_desc = 'Trabalhadores da região' #@param {type:\"string\"}\n",
        "\n",
        "#@markdown #### Nível de renda do grupo 2\n",
        "costumer_gp2_income =  'Baixa' #@param [\"'Baixa'\", \"'Média'\", \"'Alta'\", \"None\"] {type:\"raw\"}\n",
        "#@markdown Caso queira deixar este parâmetro vazio, selecione a opção `None`\n",
        "\n",
        "#@markdown ---\n",
        "# @markdown *Após preencher as informações não se esqueça de rodar o código clicando no ▶️ logo acima.*\n",
        "\n",
        "if costumer_gp2_desc == '' or costumer_gp2_income == None:\n",
        "  costumer_gp2_desc = None\n",
        "  costumer_gp2_income = None\n",
        "  print(\"Nenhuma informação do grupo 2 foi registrada.\")\n",
        "else:\n",
        "  print(\"Informações salvas com sucesso.\")"
      ],
      "metadata": {
        "id": "0z_mlBjm62kd",
        "colab": {
          "base_uri": "https://localhost:8080/"
        },
        "cellView": "form",
        "outputId": "0873c7c7-cc83-471b-c35c-2f8199348711"
      },
      "execution_count": null,
      "outputs": [
        {
          "output_type": "stream",
          "name": "stdout",
          "text": [
            "Informações salvas com sucesso.\n"
          ]
        }
      ]
    },
    {
      "cell_type": "markdown",
      "source": [
        "### Grupo de Clientes 3\n",
        "Preenchimento opcional"
      ],
      "metadata": {
        "id": "nC9bVPTM8VMO"
      }
    },
    {
      "cell_type": "code",
      "source": [
        "#@markdown ### Breve descrição do grupo 3\n",
        "#@markdown Exemplos: Moradores locais, Turistas, Entusiastas de Café\n",
        "costumer_gp3_desc = 'Eu, que gosto de batata' #@param {type:\"string\"}\n",
        "\n",
        "#@markdown #### Nível de renda do grupo 3\n",
        "costumer_gp3_income = 'Alta' #@param [\"'Baixa'\", \"'Média'\", \"'Alta'\", \"None\"] {type:\"raw\"}\n",
        "#@markdown Caso queira deixar este parâmetro vazio, selecione a opção `None`\n",
        "\n",
        "#@markdown ---\n",
        "# @markdown *Após preencher as informações não se esqueça de rodar o código clicando no ▶️ logo acima.*\n",
        "\n",
        "if costumer_gp3_desc == '' or costumer_gp3_income == None:\n",
        "  costumer_gp3_desc = None\n",
        "  costumer_gp3_income = None\n",
        "  print(\"Nenhuma informação do grupo 2 foi registrada.\")\n",
        "else:\n",
        "  print(\"Informações salvas com sucesso.\")"
      ],
      "metadata": {
        "id": "sDuluCzJ8VMU",
        "colab": {
          "base_uri": "https://localhost:8080/"
        },
        "outputId": "4aabe40f-0de4-44dc-a5bf-3297e015e963"
      },
      "execution_count": null,
      "outputs": [
        {
          "output_type": "stream",
          "name": "stdout",
          "text": [
            "Informações salvas com sucesso.\n"
          ]
        }
      ]
    },
    {
      "cell_type": "markdown",
      "source": [
        "## 🚩Produtos e/ou Serviços"
      ],
      "metadata": {
        "id": "htQoE3eo8kHJ"
      }
    },
    {
      "cell_type": "markdown",
      "source": [
        "### Produto ou serviço 01\n",
        "\n",
        "Preenchimento obrigatório"
      ],
      "metadata": {
        "id": "dwtuTIWp9GSn"
      }
    },
    {
      "cell_type": "code",
      "source": [
        "#@markdown ### Nome\n",
        "ps1_name = 'Batatas' #@param {type:\"string\"}\n",
        "\n",
        "#@markdown ### Descrição\n",
        "ps1_description = 'Batata crua, fritas, assadas, empanadas e todos os outros tipos de batatas' #@param {type:\"string\"}\n",
        "\n",
        "if ps1_name == '' or ps1_description == '':\n",
        "  raise Exception(\"Por favor, preencha todas as informações corretamente e rode o código novamente antes de prosseguir.\")\n",
        "\n",
        "#@markdown ---\n",
        "# @markdown *Após preencher as informações não se esqueça de rodar o código clicando no ▶️ logo acima.*\n",
        "print(\"Informações salvas com sucesso.\")"
      ],
      "metadata": {
        "cellView": "form",
        "id": "ooTmz3b28yQi",
        "colab": {
          "base_uri": "https://localhost:8080/"
        },
        "outputId": "747e7c7b-2222-4188-8796-0729eadd5c86"
      },
      "execution_count": null,
      "outputs": [
        {
          "output_type": "stream",
          "name": "stdout",
          "text": [
            "Informações salvas com sucesso.\n"
          ]
        }
      ]
    },
    {
      "cell_type": "markdown",
      "source": [
        "### Produto ou serviço 02\n",
        "\n",
        "Preenchimento opcional"
      ],
      "metadata": {
        "id": "255npWfx_OBm"
      }
    },
    {
      "cell_type": "code",
      "source": [
        "#@markdown ### Nome\n",
        "ps2_name = '' #@param {type:\"string\"}\n",
        "\n",
        "#@markdown ### Descrição\n",
        "ps2_description = '' #@param {type:\"string\"}\n",
        "\n",
        "if ps2_name == '' or ps2_description == '':\n",
        "  ps2_name = None\n",
        "  ps2_description = None\n",
        "  print(\"Nenhuma informação do produto 2 foi registrada.\")\n",
        "else:\n",
        "  print(\"Informações salvas com sucesso.\")\n",
        "\n",
        "#@markdown ---\n",
        "# @markdown *Após preencher as informações não se esqueça de rodar o código clicando no ▶️ logo acima.*"
      ],
      "metadata": {
        "id": "hMadn89P_OBt",
        "colab": {
          "base_uri": "https://localhost:8080/"
        },
        "cellView": "form",
        "outputId": "93052ca8-b669-4af0-aa01-746b99aecf45"
      },
      "execution_count": null,
      "outputs": [
        {
          "output_type": "stream",
          "name": "stdout",
          "text": [
            "Nenhuma informação do produto 2 foi registrada.\n"
          ]
        }
      ]
    },
    {
      "cell_type": "markdown",
      "source": [
        "### Produto ou serviço 03\n",
        "\n",
        "Preenchimento opcional"
      ],
      "metadata": {
        "id": "rvU-J8Vu_vP8"
      }
    },
    {
      "cell_type": "code",
      "source": [
        "#@markdown ### Nome\n",
        "ps3_name = '' #@param {type:\"string\"}\n",
        "\n",
        "#@markdown ### Descrição\n",
        "ps3_description = '' #@param {type:\"string\"}\n",
        "\n",
        "if ps3_name == '' or ps3_description == '':\n",
        "  ps3_name = None\n",
        "  ps3_description = None\n",
        "  print(\"Nenhuma informação do produto 3 foi registrada.\")\n",
        "else:\n",
        "  print(\"Informações salvas com sucesso.\")\n",
        "\n",
        "#@markdown ---\n",
        "# @markdown *Após preencher as informações não se esqueça de rodar o código clicando no ▶️ logo acima.*"
      ],
      "metadata": {
        "id": "9II74BaU_vQC",
        "colab": {
          "base_uri": "https://localhost:8080/"
        },
        "cellView": "form",
        "outputId": "5aea960d-0fa9-4fee-8001-31110720cc8b"
      },
      "execution_count": null,
      "outputs": [
        {
          "output_type": "stream",
          "name": "stdout",
          "text": [
            "Nenhuma informação do produto 3 foi registrada.\n"
          ]
        }
      ]
    },
    {
      "cell_type": "markdown",
      "source": [
        "### Produto ou serviço 04\n",
        "\n",
        "Preenchimento opcional"
      ],
      "metadata": {
        "id": "ZVs6rm1O_5xw"
      }
    },
    {
      "cell_type": "code",
      "source": [
        "#@markdown ### Nome\n",
        "ps4_name = '' #@param {type:\"string\"}\n",
        "\n",
        "#@markdown ### Descrição\n",
        "ps4_description = '' #@param {type:\"string\"}\n",
        "\n",
        "if ps4_name == '' or ps4_description == '':\n",
        "  ps4_name = None\n",
        "  ps4_description = None\n",
        "  print(\"Nenhuma informação do produto 4 foi registrada.\")\n",
        "else:\n",
        "  print(\"Informações salvas com sucesso.\")\n",
        "\n",
        "#@markdown ---\n",
        "# @markdown *Após preencher as informações não se esqueça de rodar o código clicando no ▶️ logo acima.*"
      ],
      "metadata": {
        "id": "IG6tt_CI_5xw",
        "colab": {
          "base_uri": "https://localhost:8080/"
        },
        "cellView": "form",
        "outputId": "2a936a2d-4632-4d60-b57e-c1b1fdb258af"
      },
      "execution_count": null,
      "outputs": [
        {
          "output_type": "stream",
          "name": "stdout",
          "text": [
            "Nenhuma informação do produto 4 foi registrada.\n"
          ]
        }
      ]
    },
    {
      "cell_type": "markdown",
      "source": [
        "### Produto ou serviço 05\n",
        "\n",
        "Preenchimento opcional"
      ],
      "metadata": {
        "id": "c5ATEPovABDP"
      }
    },
    {
      "cell_type": "code",
      "source": [
        "#@markdown ### Nome\n",
        "ps5_name = '' #@param {type:\"string\"}\n",
        "\n",
        "#@markdown ### Descrição\n",
        "ps5_description = '' #@param {type:\"string\"}\n",
        "\n",
        "if ps5_name == '' or ps4_description == '':\n",
        "  ps5_name = None\n",
        "  ps5_description = None\n",
        "  print(\"Nenhuma informação do produto 5 foi registrada.\")\n",
        "else:\n",
        "  print(\"Informações salvas com sucesso.\")\n",
        "\n",
        "#@markdown ---\n",
        "# @markdown *Após preencher as informações não se esqueça de rodar o código clicando no ▶️ logo acima.*"
      ],
      "metadata": {
        "cellView": "form",
        "id": "YYc0-PW6ABDV",
        "colab": {
          "base_uri": "https://localhost:8080/"
        },
        "outputId": "26105525-d7b4-4936-a6fd-2173541e62cc"
      },
      "execution_count": null,
      "outputs": [
        {
          "output_type": "stream",
          "name": "stdout",
          "text": [
            "Nenhuma informação do produto 5 foi registrada.\n"
          ]
        }
      ]
    },
    {
      "cell_type": "markdown",
      "source": [
        "## Análise Interna\n",
        "\n",
        "Nessa seção você preencherá os principais pontos de Análise Interna do seu projeto."
      ],
      "metadata": {
        "id": "5DpbBK1dAbKw"
      }
    },
    {
      "cell_type": "markdown",
      "source": [
        "### Forças"
      ],
      "metadata": {
        "id": "zhQCBR5gA25Y"
      }
    },
    {
      "cell_type": "code",
      "source": [
        "#@markdown ####Força 01 *obrigatória*\n",
        "strength_1 = 'Não há outras lojas que vendam especificamente batatas' #@param {type:\"string\"}\n",
        "#@markdown ####Força 02 *opcional*\n",
        "strength_2 = '' #@param {type:\"string\"}\n",
        "#@markdown ####Força 03 *opcional*\n",
        "strength_3 = '' #@param {type:\"string\"}\n",
        "\n",
        "if strength_1 == '':\n",
        "  raise Exception(\"Por favor, o campo força 01 deve ser preenchido.\")\n",
        "\n",
        "if strength_2 == '':\n",
        "  strength_2 = None\n",
        "  print(\"Obs: Força 02 está em branco.\")\n",
        "\n",
        "if strength_3 == '':\n",
        "  strength_3 = None\n",
        "  print(\"Obs: Força 03 está em branco.\")\n",
        "\n",
        "if strength_1 != None and strength_2 != None and strength_3 != None:\n",
        "  print(\"Todas as forças foram registradas com sucesso.\")\n",
        "\n",
        "#@markdown ---\n",
        "# @markdown *Após preencher as informações não se esqueça de rodar o código clicando no ▶️ logo acima.*\n",
        "print(\"Informações salvas com sucesso.\")\n"
      ],
      "metadata": {
        "colab": {
          "base_uri": "https://localhost:8080/"
        },
        "id": "lQnKYAmGA6iz",
        "outputId": "8dcbb4b3-c5de-4654-9b75-b3b5a632e174"
      },
      "execution_count": null,
      "outputs": [
        {
          "output_type": "stream",
          "name": "stdout",
          "text": [
            "Obs: Força 02 está em branco.\n",
            "Obs: Força 03 está em branco.\n",
            "Informações salvas com sucesso.\n"
          ]
        }
      ]
    },
    {
      "cell_type": "markdown",
      "source": [
        "### Fraquezas"
      ],
      "metadata": {
        "id": "hY088TedC9Zg"
      }
    },
    {
      "cell_type": "code",
      "source": [
        "#@markdown ####Fraqueza 01 *obrigatória*\n",
        "weakness_1 = 'Mercado muito nichado. Conforme pesquisa menos de 10% da população da região tem interesse' #@param {type:\"string\"}\n",
        "#@markdown ####Fraqueza 02 *opcional*\n",
        "weakness_2 = '' #@param {type:\"string\"}\n",
        "#@markdown ####Fraqueza 03 *opcional*\n",
        "weakness_3 = '' #@param {type:\"string\"}\n",
        "\n",
        "if weakness_1 == '':\n",
        "  raise Exception(\"Por favor, o campo fraqueza 01 deve ser preenchido.\")\n",
        "\n",
        "if weakness_2 == '':\n",
        "  weakness_2 = None\n",
        "  print(\"Obs: Fraqueza 02 está em branco.\")\n",
        "\n",
        "if weakness_3 == '':\n",
        "  weakness_3 = None\n",
        "  print(\"Obs: Fraqueza 03 está em branco.\")\n",
        "\n",
        "if weakness_1 != None and weakness_2 != None and weakness_3 != None:\n",
        "  print(\"Todas as fraquezas foram registradas com sucesso.\")\n",
        "\n",
        "#@markdown ---\n",
        "# @markdown *Após preencher as informações não se esqueça de rodar o código clicando no ▶️ logo acima.*\n",
        "print(\"Informações salvas com sucesso.\")\n"
      ],
      "metadata": {
        "colab": {
          "base_uri": "https://localhost:8080/"
        },
        "outputId": "63ebd639-dc2f-45d8-bae7-ab40fe8585bb",
        "id": "ybzLtoyKC9Zm",
        "cellView": "form"
      },
      "execution_count": null,
      "outputs": [
        {
          "output_type": "stream",
          "name": "stdout",
          "text": [
            "Todas as fraquezas foram registradas com sucesso.\n",
            "Informações salvas com sucesso.\n"
          ]
        }
      ]
    },
    {
      "cell_type": "markdown",
      "source": [
        "# ✍️Geração do Plano"
      ],
      "metadata": {
        "id": "4ffueeX1-OXt"
      }
    },
    {
      "cell_type": "code",
      "source": [
        "#@markdown Você deve clicar no ▶️ aqui ao lado para executar o código e gerar o plano de negócios com base nas informações que você digitou.\n",
        "\"\"\"\n",
        "At the command line, only need to run once to install the package via pip:\n",
        "\n",
        "$ pip install google-generativeai\n",
        "\"\"\"\n",
        "import google.generativeai as genai\n",
        "\n",
        "from google.colab import userdata\n",
        "\n",
        "genai.configure(api_key=userdata.get('apikey'))\n",
        "\n",
        "# Set up the model\n",
        "generation_config = {\n",
        "  \"temperature\": 0.8,\n",
        "  \"top_p\": 0.95,\n",
        "  \"top_k\": 0,\n",
        "  \"max_output_tokens\": 8192,\n",
        "}\n",
        "\n",
        "safety_settings = [\n",
        "  {\n",
        "    \"category\": \"HARM_CATEGORY_HARASSMENT\",\n",
        "    \"threshold\": \"BLOCK_MEDIUM_AND_ABOVE\"\n",
        "  },\n",
        "  {\n",
        "    \"category\": \"HARM_CATEGORY_HATE_SPEECH\",\n",
        "    \"threshold\": \"BLOCK_MEDIUM_AND_ABOVE\"\n",
        "  },\n",
        "  {\n",
        "    \"category\": \"HARM_CATEGORY_SEXUALLY_EXPLICIT\",\n",
        "    \"threshold\": \"BLOCK_MEDIUM_AND_ABOVE\"\n",
        "  },\n",
        "  {\n",
        "    \"category\": \"HARM_CATEGORY_DANGEROUS_CONTENT\",\n",
        "    \"threshold\": \"BLOCK_MEDIUM_AND_ABOVE\"\n",
        "  },\n",
        "]\n",
        "\n",
        "model = genai.GenerativeModel(model_name=\"gemini-1.5-pro-latest\",\n",
        "                              generation_config=generation_config,\n",
        "                              safety_settings=safety_settings)\n",
        "\n",
        "prompt_parts = [\n",
        "  f\"\"\"Você é um renomado administrador de empresas e me auxiliará a escrever um plano de negócios para {business_type} que será terá o seguinte uso:{plan_utility} e contará com a seguinte estrutura:\n",
        "    \\n\\t1. Descrição do negócio\n",
        "      \\n\\t\\tInformações do Negócio:\n",
        "        \\n\\t\\t\\tO Nome do negócio é: {business_name}.\n",
        "        \\n\\t\\t\\tA descrição é: {business_description}.\n",
        "        \\n\\t\\t\\tÉ uma empresa do ramo de {business_branch} que contará com {business_employees} funcionários, além do dono.\n",
        "        \\n\\t\\t\\tVende seus produtos através de {business_sales_method if business_sales_method != \"Ambos\" else \"Loja Online e Loja Física\" }.\n",
        "        \\n\\t\\t\\tO negócio atuará na região: {business_location}.\n",
        "\n",
        "      \\n\\t\\t\\tProdutos e serviços:\n",
        "        \\n\\t\\t\\t\\tProduto ou serviço 01: {ps1_name}\n",
        "         \\n\\t\\t\\t\\t\\tDescrição: {ps1_description}\n",
        "        \\n\\t\\t\\t\\tProduto ou serviço 02: {ps2_name}\n",
        "          \\n\\t\\t\\t\\t\\tDescrição: {ps2_description}\n",
        "        \\n\\t\\t\\t\\tProduto ou serviço 03: {ps3_name}\n",
        "         \\n\\t\\t\\t\\t\\tDescrição: {ps3_description}\n",
        "        \\n\\t\\t\\t\\tProduto ou serviço 04: {ps4_name}\n",
        "         \\n\\t\\t\\t\\t\\tDescrição: {ps4_description}\n",
        "        \\n\\t\\t\\t\\tProduto ou serviço 05: {ps5_name}\n",
        "         \\n\\t\\t\\t\\t\\tDescrição: {ps5_description}\n",
        "      \\n\\t\\tPara este tópico, utilizando de seu conhecimento e das informações acima, escreva uma profunda revisão do negócio. A missão desta seção é explicar ao leitor o conceito do negócio e sua proposta de valor. Seu texto será importado diretamente ao arquivo final, portanto inicie sua resposta diretamente no texto final. Escreva pelo menos 4 parágrafos.\n",
        "\n",
        "      \\n\\t\\n2. Histórico da Indústria:\n",
        "      \\n\\t\\tFalar sobre o formato, tamanho, tendências, e características importantes da indústria em que o negócio está inserido. No texto a ser escrito ponderar as seguintes questões:\n",
        "      \\n\\t\\t\\t- Qual a industria?\n",
        "      \\n\\t\\t\\t- Quais são os principais competidores desse mercado?\n",
        "      \\n\\t\\t\\t- Quais são as barreiras de entrada desse setor?\n",
        "\n",
        "      \\n\\t\\n3. Análise competitiva:\n",
        "        \\n\\tLeia o texto gerado até aqui. Nessa seção gere uma Análise SWOT para o negócio. Após, revise a análise SWOT em 1 paragráfo de texto.\n",
        "\n",
        "      \\n\\n4. Análise de Mercado\n",
        "      \\n\\tLeia o texto gerado até aqui. O foco aqui é demonstrar que realmente já uma abertura para o negócio no mercado. Escreva no minimo 3 parágrafos.\n",
        "\n",
        "      \\n\\n5. Plano de Marketing\n",
        "        \\n\\tGrupo de clientes 01:\n",
        "          \\n\\t\\tDescrição: {costumer_gp1_desc}\n",
        "          \\n\\t\\tNível de renda: {costumer_gp1_income}\n",
        "        \\n\\tGrupo de Clientes 02:\n",
        "          \\n\\t\\tDescrição: {costumer_gp2_desc}\n",
        "          \\n\\t\\tNível de Renda: {costumer_gp2_income}\n",
        "        \\n\\tGrupo de Clientes 03:\n",
        "          \\n\\t\\tDescrição: {costumer_gp3_desc}\n",
        "          \\n\\t\\tNível de Renda: {costumer_gp3_income}\n",
        "      \\n\\tCrie um plano de marketing e/ou uma estratégia detalhada de como os produtos serão vendidos.  Foco na proposta de valor do negócio e no comportamento dos clientes.\"\"\",\n",
        "]\n",
        "\n",
        "# print(prompt_parts[0])\n",
        "\n",
        "response = model.generate_content(prompt_parts)\n",
        "\n",
        "#print(response.text)\n",
        "\n",
        "#Melhorando a visualização\n",
        "#Código disponível em https://ai.google.dev/tutorials/python_quickstart#import_packages\n",
        "import textwrap\n",
        "from IPython.display import display\n",
        "from IPython.display import Markdown\n",
        "\n",
        "display(Markdown(response.text))"
      ],
      "metadata": {
        "colab": {
          "base_uri": "https://localhost:8080/",
          "height": 1000
        },
        "id": "7SdCBAgr_B3Y",
        "outputId": "2977916f-ff22-4f1f-ba56-a30322379fae",
        "cellView": "form"
      },
      "execution_count": 33,
      "outputs": [
        {
          "output_type": "stream",
          "name": "stdout",
          "text": [
            "## 1. Descrição do Negócio\n",
            "\n",
            "Batatatinha123 é um novo conceito de loja focada em um dos alimentos mais versáteis e amados do mundo: a batata. Indo além do lugar-comum, Batatatinha123 explorará todo o potencial da batata, oferecendo uma variedade impressionante de tipos, tamanhos e formatos, desde as tradicionais batatas inglesas e asterix até opções mais exóticas como a batata doce roxa e a batata yacon. \n",
            "\n",
            "A proposta de valor da Batatatinha123 reside em três pilares principais: **variedade, qualidade e criatividade**. A loja oferecerá aos clientes de Pindamonhangaba um leque de opções jamais visto, com batatas frescas, selecionadas cuidadosamente de fornecedores locais e de confiança.  Além da venda da matéria-prima, a Batatatinha123 irá encantar seus clientes com uma seleção de batatas fritas, assadas, empanadas e preparadas de outras formas deliciosas e inovadoras.\n",
            "\n",
            "A Batatatinha123 se posiciona como muito mais do que uma simples loja de batatas. O objetivo é criar um ambiente acolhedor e vibrante, um verdadeiro ponto de encontro para os apaixonados por batata.  A equipe de três funcionários, liderada pelo dono, será treinada para oferecer um atendimento personalizado e dedicado, orientando os clientes na escolha da batata ideal para cada ocasião e compartilhando dicas e receitas criativas. \n",
            "\n",
            "A localização da loja em Pindamonhangaba, em um ponto estratégico de grande circulação, facilitará o acesso do público e fortalecerá a presença da marca na região.  Com um investimento inicial enxuto e um modelo de negócio eficiente, a Batatatinha123 tem tudo para se tornar um sucesso absoluto, conquistando o paladar e a fidelidade dos clientes.\n",
            "\n",
            "## 2. Histórico da Indústria:\n",
            "\n",
            "A Batatatinha123 se insere no mercado de alimentos, especificamente no setor de hortifruti. Este setor é caracterizado por um grande volume de vendas, impulsionado pela necessidade básica de consumo de frutas, legumes e verduras.  O mercado apresenta grande competitividade, com a presença de supermercados, mercados municipais, feiras livres e pequenos varejistas. \n",
            "\n",
            "Os principais competidores da Batatatinha123 em Pindamonhangaba são:\n",
            "\n",
            "* **Supermercados:** Oferecem variedade de produtos, incluindo batatas, mas com foco em menor preço e praticidade.\n",
            "* **Feiras livres:** Vendem batatas frescas a preços competitivos, mas com menor variedade e qualidade irregular.\n",
            "* **Sacolões e pequenos varejistas:**  Oferecem batatas com foco em preço baixo, mas com menor variedade e qualidade.\n",
            "\n",
            "As principais barreiras de entrada neste setor são:\n",
            "\n",
            "* **Logística:**  A necessidade de garantir um fornecimento constante de batatas frescas e de qualidade, com boa gestão de estoque e transporte.\n",
            "* **Preço:** A pressão por preços competitivos, especialmente em relação aos supermercados e feiras livres.\n",
            "* **Diferenciação:** A necessidade de se destacar em um mercado competitivo, oferecendo produtos e serviços diferenciados que justifiquem um preço premium. \n",
            "\n",
            "## 3. Análise Competitiva:\n",
            "\n",
            "**Matriz SWOT:**\n",
            "\n",
            "**Pontos Fortes:**\n",
            "\n",
            "* Variedade e qualidade das batatas\n",
            "*  Atendimento personalizado e especializado\n",
            "* Localização estratégica\n",
            "* Ambiente acolhedor e diferenciado\n",
            "*  Criatividade na oferta de produtos e serviços\n",
            "\n",
            "**Pontos Fracos:**\n",
            "\n",
            "*  Empresa nova no mercado, sem histórico\n",
            "*  Necessidade de investimento em marketing e divulgação\n",
            "*  Dificuldade em competir em preço com grandes players\n",
            "\n",
            "**Oportunidades:**\n",
            "\n",
            "*  Crescente demanda por alimentos saudáveis e de qualidade\n",
            "*  Possibilidade de expansão para outras regiões\n",
            "*  Desenvolvimento de produtos e serviços inovadores\n",
            "\n",
            "**Ameaças:**\n",
            "\n",
            "*  Oscilação no preço das batatas\n",
            "*  Entrada de novos competidores no mercado\n",
            "*  Mudanças nos hábitos de consumo dos clientes\n",
            "\n",
            "**Análise da Matriz SWOT:**\n",
            "\n",
            "A Batatatinha123 possui um grande potencial de sucesso, com pontos fortes como a variedade, qualidade e criatividade na oferta de produtos e serviços, além do atendimento personalizado.  Entretanto, a empresa precisa superar os desafios de ser nova no mercado, investindo em marketing e divulgação para atrair clientes e fidelizá-los.  A empresa deve aproveitar as oportunidades de mercado, como a crescente demanda por alimentos saudáveis, e se preparar para as ameaças, como a oscilação no preço das batatas e a entrada de novos competidores. \n",
            "\n",
            "## 4. Análise de Mercado\n",
            "\n",
            "Pindamonhangaba apresenta um mercado promissor para a Batatatinha123, com um público diversificado e ávido por novidades gastronômicas.  A cidade possui um crescente número de restaurantes, bares e lanchonetes que utilizam a batata como ingrediente principal em seus pratos, demonstrando a alta demanda por este produto.  \n",
            "\n",
            "A Batatatinha123 se destaca por oferecer um conceito inovador, indo além da simples venda de batatas.  A loja supre a carência por um estabelecimento especializado neste produto, que ofereça variedade, qualidade e criatividade em suas preparações.  A localização estratégica da loja, em um ponto de grande circulação, garante visibilidade e fácil acesso para o público.\n",
            "\n",
            "A pesquisa de mercado indica um grande potencial de sucesso para a Batatatinha123 em Pindamonhangaba.  A proposta de valor da loja, aliada à paixão dos brasileiros por batata,  cria um cenário favorável para a conquista de clientes e a consolidação da marca na cidade.\n",
            "\n",
            "\n",
            "## 5. Plano de Marketing\n",
            "\n",
            "A estratégia de marketing da Batatatinha123 será focada em gerar reconhecimento da marca e atrair os clientes-alvo, utilizando  um mix de ações online e offline:\n",
            "\n",
            "**Marketing Digital:**\n",
            "\n",
            "* **Criação de website e perfis em redes sociais:**  Instagram, Facebook, com conteúdo atrativo, informativo e que promova interação com o público. \n",
            "* **Marketing de conteúdo:**  Compartilhamento de receitas, dicas de preparo da batata, curiosidades, promovendo engajamento e posicionando a Batatatinha123 como especialista.\n",
            "* **Anúncios online:**  Facebook Ads e Instagram Ads, segmentando os anúncios para o público-alvo em Pindamonhangaba, com foco em promoções e ofertas especiais. \n",
            "\n",
            "**Marketing Tradicional:**\n",
            "\n",
            "* **Panfletagem e distribuição de flyers:**  Em pontos estratégicos da cidade, como próximo a supermercados, feiras e faculdades. \n",
            "* **Parcerias com restaurantes e bares:**  Oferecendo batatas de alta qualidade e promovendo a marca da Batatatinha123. \n",
            "* **Eventos e degustações:**  Organização de eventos na loja com degustação de produtos, promoções e música ao vivo, criando uma experiência sensorial única para os clientes.\n",
            "\n",
            "**Proposta de Valor e Comportamento do Cliente:**\n",
            "\n",
            "A Batatatinha123 irá se comunicar com seus clientes de forma clara e cativante, destacando os seguintes pontos:\n",
            "\n",
            "* **Variedade:** \"Encontre a batata perfeita para cada ocasião: Inglesa, Asterix, Doce, Yacon e muito mais!\"\n",
            "* **Qualidade:** \"Batatas frescas, selecionadas e de alta qualidade, direto do produtor para sua mesa.\"\n",
            "* **Criatividade:** \"Experimente nossas deliciosas batatas fritas, assadas, empanadas e outras delícias que irão te surpreender.\"\n",
            "* **Atendimento:** \"Nossa equipe especializada está pronta para te auxiliar na escolha da batata ideal e te ajudar a preparar pratos incríveis.\"\n",
            "\n",
            "**Fidelização:**\n",
            "\n",
            "* **Programa de fidelidade:**  Clientes acumulam pontos a cada compra e trocam por produtos ou descontos.\n",
            "* **Promoções e ofertas especiais:**  Descontos em datas comemorativas, promoções relâmpago, ofertas para clientes que indicarem amigos.\n",
            "* **Comunicação constante:**  E-mail marketing, WhatsApp, informando sobre novidades, promoções e eventos da loja.\n",
            "\n",
            "Com um plano de marketing bem estruturado, a Batatatinha123 irá conquistar o público de Pindamonhangaba e se tornar referência em batatas, oferecendo uma experiência de compra única e memorável. \n",
            "\n"
          ]
        },
        {
          "output_type": "display_data",
          "data": {
            "text/plain": [
              "<IPython.core.display.Markdown object>"
            ],
            "text/markdown": "## 1. Descrição do Negócio\n\nBatatatinha123 é um novo conceito de loja focada em um dos alimentos mais versáteis e amados do mundo: a batata. Indo além do lugar-comum, Batatatinha123 explorará todo o potencial da batata, oferecendo uma variedade impressionante de tipos, tamanhos e formatos, desde as tradicionais batatas inglesas e asterix até opções mais exóticas como a batata doce roxa e a batata yacon. \n\nA proposta de valor da Batatatinha123 reside em três pilares principais: **variedade, qualidade e criatividade**. A loja oferecerá aos clientes de Pindamonhangaba um leque de opções jamais visto, com batatas frescas, selecionadas cuidadosamente de fornecedores locais e de confiança.  Além da venda da matéria-prima, a Batatatinha123 irá encantar seus clientes com uma seleção de batatas fritas, assadas, empanadas e preparadas de outras formas deliciosas e inovadoras.\n\nA Batatatinha123 se posiciona como muito mais do que uma simples loja de batatas. O objetivo é criar um ambiente acolhedor e vibrante, um verdadeiro ponto de encontro para os apaixonados por batata.  A equipe de três funcionários, liderada pelo dono, será treinada para oferecer um atendimento personalizado e dedicado, orientando os clientes na escolha da batata ideal para cada ocasião e compartilhando dicas e receitas criativas. \n\nA localização da loja em Pindamonhangaba, em um ponto estratégico de grande circulação, facilitará o acesso do público e fortalecerá a presença da marca na região.  Com um investimento inicial enxuto e um modelo de negócio eficiente, a Batatatinha123 tem tudo para se tornar um sucesso absoluto, conquistando o paladar e a fidelidade dos clientes.\n\n## 2. Histórico da Indústria:\n\nA Batatatinha123 se insere no mercado de alimentos, especificamente no setor de hortifruti. Este setor é caracterizado por um grande volume de vendas, impulsionado pela necessidade básica de consumo de frutas, legumes e verduras.  O mercado apresenta grande competitividade, com a presença de supermercados, mercados municipais, feiras livres e pequenos varejistas. \n\nOs principais competidores da Batatatinha123 em Pindamonhangaba são:\n\n* **Supermercados:** Oferecem variedade de produtos, incluindo batatas, mas com foco em menor preço e praticidade.\n* **Feiras livres:** Vendem batatas frescas a preços competitivos, mas com menor variedade e qualidade irregular.\n* **Sacolões e pequenos varejistas:**  Oferecem batatas com foco em preço baixo, mas com menor variedade e qualidade.\n\nAs principais barreiras de entrada neste setor são:\n\n* **Logística:**  A necessidade de garantir um fornecimento constante de batatas frescas e de qualidade, com boa gestão de estoque e transporte.\n* **Preço:** A pressão por preços competitivos, especialmente em relação aos supermercados e feiras livres.\n* **Diferenciação:** A necessidade de se destacar em um mercado competitivo, oferecendo produtos e serviços diferenciados que justifiquem um preço premium. \n\n## 3. Análise Competitiva:\n\n**Matriz SWOT:**\n\n**Pontos Fortes:**\n\n* Variedade e qualidade das batatas\n*  Atendimento personalizado e especializado\n* Localização estratégica\n* Ambiente acolhedor e diferenciado\n*  Criatividade na oferta de produtos e serviços\n\n**Pontos Fracos:**\n\n*  Empresa nova no mercado, sem histórico\n*  Necessidade de investimento em marketing e divulgação\n*  Dificuldade em competir em preço com grandes players\n\n**Oportunidades:**\n\n*  Crescente demanda por alimentos saudáveis e de qualidade\n*  Possibilidade de expansão para outras regiões\n*  Desenvolvimento de produtos e serviços inovadores\n\n**Ameaças:**\n\n*  Oscilação no preço das batatas\n*  Entrada de novos competidores no mercado\n*  Mudanças nos hábitos de consumo dos clientes\n\n**Análise da Matriz SWOT:**\n\nA Batatatinha123 possui um grande potencial de sucesso, com pontos fortes como a variedade, qualidade e criatividade na oferta de produtos e serviços, além do atendimento personalizado.  Entretanto, a empresa precisa superar os desafios de ser nova no mercado, investindo em marketing e divulgação para atrair clientes e fidelizá-los.  A empresa deve aproveitar as oportunidades de mercado, como a crescente demanda por alimentos saudáveis, e se preparar para as ameaças, como a oscilação no preço das batatas e a entrada de novos competidores. \n\n## 4. Análise de Mercado\n\nPindamonhangaba apresenta um mercado promissor para a Batatatinha123, com um público diversificado e ávido por novidades gastronômicas.  A cidade possui um crescente número de restaurantes, bares e lanchonetes que utilizam a batata como ingrediente principal em seus pratos, demonstrando a alta demanda por este produto.  \n\nA Batatatinha123 se destaca por oferecer um conceito inovador, indo além da simples venda de batatas.  A loja supre a carência por um estabelecimento especializado neste produto, que ofereça variedade, qualidade e criatividade em suas preparações.  A localização estratégica da loja, em um ponto de grande circulação, garante visibilidade e fácil acesso para o público.\n\nA pesquisa de mercado indica um grande potencial de sucesso para a Batatatinha123 em Pindamonhangaba.  A proposta de valor da loja, aliada à paixão dos brasileiros por batata,  cria um cenário favorável para a conquista de clientes e a consolidação da marca na cidade.\n\n\n## 5. Plano de Marketing\n\nA estratégia de marketing da Batatatinha123 será focada em gerar reconhecimento da marca e atrair os clientes-alvo, utilizando  um mix de ações online e offline:\n\n**Marketing Digital:**\n\n* **Criação de website e perfis em redes sociais:**  Instagram, Facebook, com conteúdo atrativo, informativo e que promova interação com o público. \n* **Marketing de conteúdo:**  Compartilhamento de receitas, dicas de preparo da batata, curiosidades, promovendo engajamento e posicionando a Batatatinha123 como especialista.\n* **Anúncios online:**  Facebook Ads e Instagram Ads, segmentando os anúncios para o público-alvo em Pindamonhangaba, com foco em promoções e ofertas especiais. \n\n**Marketing Tradicional:**\n\n* **Panfletagem e distribuição de flyers:**  Em pontos estratégicos da cidade, como próximo a supermercados, feiras e faculdades. \n* **Parcerias com restaurantes e bares:**  Oferecendo batatas de alta qualidade e promovendo a marca da Batatatinha123. \n* **Eventos e degustações:**  Organização de eventos na loja com degustação de produtos, promoções e música ao vivo, criando uma experiência sensorial única para os clientes.\n\n**Proposta de Valor e Comportamento do Cliente:**\n\nA Batatatinha123 irá se comunicar com seus clientes de forma clara e cativante, destacando os seguintes pontos:\n\n* **Variedade:** \"Encontre a batata perfeita para cada ocasião: Inglesa, Asterix, Doce, Yacon e muito mais!\"\n* **Qualidade:** \"Batatas frescas, selecionadas e de alta qualidade, direto do produtor para sua mesa.\"\n* **Criatividade:** \"Experimente nossas deliciosas batatas fritas, assadas, empanadas e outras delícias que irão te surpreender.\"\n* **Atendimento:** \"Nossa equipe especializada está pronta para te auxiliar na escolha da batata ideal e te ajudar a preparar pratos incríveis.\"\n\n**Fidelização:**\n\n* **Programa de fidelidade:**  Clientes acumulam pontos a cada compra e trocam por produtos ou descontos.\n* **Promoções e ofertas especiais:**  Descontos em datas comemorativas, promoções relâmpago, ofertas para clientes que indicarem amigos.\n* **Comunicação constante:**  E-mail marketing, WhatsApp, informando sobre novidades, promoções e eventos da loja.\n\nCom um plano de marketing bem estruturado, a Batatatinha123 irá conquistar o público de Pindamonhangaba e se tornar referência em batatas, oferecendo uma experiência de compra única e memorável. \n"
          },
          "metadata": {}
        }
      ]
    }
  ]
}