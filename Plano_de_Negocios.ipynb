{
  "nbformat": 4,
  "nbformat_minor": 0,
  "metadata": {
    "colab": {
      "provenance": [],
      "collapsed_sections": [
        "vWKcOaS0lkYg",
        "pMrgZNXMl4Ai",
        "8i72uhM1vjQH",
        "rcVN9Lhv47rP",
        "gOsR693e62kc",
        "nC9bVPTM8VMO",
        "htQoE3eo8kHJ",
        "dwtuTIWp9GSn",
        "255npWfx_OBm",
        "rvU-J8Vu_vP8",
        "ZVs6rm1O_5xw",
        "c5ATEPovABDP",
        "zhQCBR5gA25Y",
        "hY088TedC9Zg"
      ],
      "toc_visible": true,
      "authorship_tag": "ABX9TyMV4OgKbkRsOI9iW3gtSKFj",
      "include_colab_link": true
    },
    "kernelspec": {
      "name": "python3",
      "display_name": "Python 3"
    },
    "language_info": {
      "name": "python"
    }
  },
  "cells": [
    {
      "cell_type": "markdown",
      "metadata": {
        "id": "view-in-github",
        "colab_type": "text"
      },
      "source": [
        "<a href=\"https://colab.research.google.com/github/GustavoIgnacioSouza/PlanodeNegociosGemini/blob/main/Plano_de_Negocios.ipynb\" target=\"_parent\"><img src=\"https://colab.research.google.com/assets/colab-badge.svg\" alt=\"Open In Colab\"/></a>"
      ]
    },
    {
      "cell_type": "markdown",
      "source": [
        "# 🕐 Plano de Negócios de Minuto 🕐\n",
        "> Seja bem vindo a um gerador de plano de negócios alimentado pelas tecnologias do Google Gemini.\n",
        "\n",
        "\n",
        "---\n",
        "\n",
        "\n",
        "\n",
        "\n",
        "\n",
        "\n",
        "Ao longo dos próximos minutos você responderá a uma série de perguntas para alimentar o modelo que, em instantes, gerará um plano de negócios completo para você usar em seus próximos projetos 🚀\n"
      ],
      "metadata": {
        "id": "R3VDbD66aTLY"
      }
    },
    {
      "cell_type": "markdown",
      "source": [
        "# 📖 Preenchimento das Informações"
      ],
      "metadata": {
        "id": "2rEQuVP3-E0g"
      }
    },
    {
      "cell_type": "markdown",
      "source": [
        "## ✔️ Objetivos do plano\n",
        "\n",
        "Nessa seção precisamos entender quais os seus objetivos com esse plano de negócios."
      ],
      "metadata": {
        "id": "vWKcOaS0lkYg"
      }
    },
    {
      "cell_type": "code",
      "source": [
        "# @markdown ### Você planja expandir uma operação atual ou iniciar um novo negócio?\n",
        "business_type = 'Iniciar um novo negócio' # @param ['Iniciar um novo negócio', 'Expandir uma operação já existente']\n",
        "# @markdown ### Qual o uso para este plano de negócios?\n",
        "plan_utility = 'Uso em projetos pessoais' #@param ['Apresentar para bancos', 'Apresentar para investidores', 'Usar como referência para projetos teóricos (faculdade, escola e etc)', 'Uso em projetos pessoais', 'Outros', 'Uso em aplicações não financeiras (franquias, vistos e etc)']\n",
        "# @markdown *Após preencher as informações não se esqueça de rodar o código clicando no ▶️ logo acima.*\n",
        "print(\"Informações salvas com sucesso.\")"
      ],
      "metadata": {
        "cellView": "form",
        "id": "B2wbjjGnfpwz",
        "colab": {
          "base_uri": "https://localhost:8080/"
        },
        "outputId": "0adbe738-352e-42a2-a784-fbe2d21cf889"
      },
      "execution_count": null,
      "outputs": [
        {
          "output_type": "stream",
          "name": "stdout",
          "text": [
            "Informações salvas com sucesso.\n"
          ]
        }
      ]
    },
    {
      "cell_type": "markdown",
      "source": [
        "## ℹ️ Informações do negócio\n",
        "\n",
        "Nessa seção você preencherá as informações referentes aos seus clientes e seus produtos ou serviços.\n",
        "\n",
        "Responda como se fosse para um consultor."
      ],
      "metadata": {
        "id": "pMrgZNXMl4Ai"
      }
    },
    {
      "cell_type": "code",
      "source": [
        "#@markdown ###Qual o nome do seu negócio?\n",
        "business_name = '' #@param {type:\"string\"}\n",
        "#@markdown ### Descreva o seu negócio em poucas palavras\n",
        "#@markdown Exemplo: padaria / restaurante / mercado\n",
        "business_description = '' #@param {type:\"string\"}\n",
        "#@markdown ###Quantos funcionários você terá?\n",
        "business_employees = None #@param {type:\"integer\"}\n",
        "#@markdown ###Você oferefe um produto ou serviço?\n",
        "#@markdown *Empresas de varejo (como mercados, padarias etc) devem ser consideradas como empresas de serviços*\n",
        "business_branch = \"Produtos\" #@param ['Produtos', 'Serviços']\n",
        "#@markdown ###Como você vende seus produtos/presta seus serviços?\n",
        "business_sales_method = \"Ambos\" #@param ['Loja física', 'Online', 'Ambos']\n",
        "#@markdown ### Onde você atuará?\n",
        "#@markdown *Por exemplo: Porto Alegre e região metropolitana, RS / Brasil / Pará / Estados Unidos e Brasil*\n",
        "business_location = \"\" #@param{type:\"string\"}\n",
        "\n",
        "if business_name == '' or business_description == '' or business_employees <= 0 or business_branch == '' or business_sales_method == '' or business_location == '':\n",
        "  raise Exception(\"Por favor, preencha todas as informações corretamente e rode o código novamente antes de prosseguir.\")\n",
        "\n",
        "#@markdown ---\n",
        "# @markdown *Após preencher as informações não se esqueça de rodar o código clicando no ▶️ logo acima.*\n",
        "print(\"Informações salvas com sucesso.\")"
      ],
      "metadata": {
        "colab": {
          "base_uri": "https://localhost:8080/"
        },
        "cellView": "form",
        "id": "wHMR5LfkmDdZ",
        "outputId": "f35662c9-7f6c-48c5-ec93-d4a96e36d839"
      },
      "execution_count": null,
      "outputs": [
        {
          "output_type": "stream",
          "name": "stdout",
          "text": [
            "Informações salvas com sucesso.\n"
          ]
        }
      ]
    },
    {
      "cell_type": "markdown",
      "source": [
        "## 👩‍👨‍👦 Clientes\n",
        "\n",
        "Nessa seção vamos entender melhor qual o público-alvo que você quer atingir.\n",
        "\n"
      ],
      "metadata": {
        "id": "8i72uhM1vjQH"
      }
    },
    {
      "cell_type": "markdown",
      "source": [
        "### Grupo de Clientes 1\n",
        "Preenchimento obrigatório"
      ],
      "metadata": {
        "id": "rcVN9Lhv47rP"
      }
    },
    {
      "cell_type": "code",
      "source": [
        "#@markdown ### Breve descrição do grupo 1\n",
        "#@markdown Exemplos: Moradores locais, Turistas, Entusiastas de Café\n",
        "costumer_gp1_desc = '' #@param {type:\"string\"}\n",
        "\n",
        "#@markdown #### Nível de renda do grupo 1\n",
        "costumer_gp1_income = 'Baixa' #@param ['Baixa', 'Média', 'Alta']\n",
        "\n",
        "if costumer_gp1_desc == '' or costumer_gp1_income == '':\n",
        "  raise Exception(\"Por favor, preencha todas as informações corretamente e rode o código novamente antes de prosseguir.\")\n",
        "\n",
        "#@markdown ---\n",
        "# @markdown *Após preencher as informações não se esqueça de rodar o código clicando no ▶️ logo acima.*\n",
        "print(\"Informações salvas com sucesso.\")"
      ],
      "metadata": {
        "id": "hD2QBlXcvzWP",
        "colab": {
          "base_uri": "https://localhost:8080/"
        },
        "cellView": "form",
        "outputId": "3593548b-b0d3-46e3-aac5-dd3e5f88a492"
      },
      "execution_count": null,
      "outputs": [
        {
          "output_type": "stream",
          "name": "stdout",
          "text": [
            "Informações salvas com sucesso.\n"
          ]
        }
      ]
    },
    {
      "cell_type": "markdown",
      "source": [
        "### Grupo de Clientes 2\n",
        "Preenchimento opcional"
      ],
      "metadata": {
        "id": "gOsR693e62kc"
      }
    },
    {
      "cell_type": "code",
      "source": [
        "#@markdown ### Breve descrição do grupo 2\n",
        "#@markdown Exemplos: Moradores locais, Turistas, Entusiastas de Café\n",
        "costumer_gp2_desc = '' #@param {type:\"string\"}\n",
        "\n",
        "#@markdown #### Nível de renda do grupo 2\n",
        "costumer_gp2_income =  None #@param [\"'Baixa'\", \"'Média'\", \"'Alta'\", \"None\"] {type:\"raw\"}\n",
        "#@markdown Caso queira deixar este parâmetro vazio, selecione a opção `None`\n",
        "\n",
        "#@markdown ---\n",
        "# @markdown *Após preencher as informações não se esqueça de rodar o código clicando no ▶️ logo acima.*\n",
        "\n",
        "if costumer_gp2_desc == '' or costumer_gp2_income == None:\n",
        "  costumer_gp2_desc = None\n",
        "  costumer_gp2_income = None\n",
        "  print(\"Nenhuma informação do grupo 2 foi registrada.\")\n",
        "else:\n",
        "  print(\"Informações salvas com sucesso.\")"
      ],
      "metadata": {
        "id": "0z_mlBjm62kd",
        "colab": {
          "base_uri": "https://localhost:8080/"
        },
        "cellView": "form",
        "outputId": "0873c7c7-cc83-471b-c35c-2f8199348711"
      },
      "execution_count": null,
      "outputs": [
        {
          "output_type": "stream",
          "name": "stdout",
          "text": [
            "Informações salvas com sucesso.\n"
          ]
        }
      ]
    },
    {
      "cell_type": "markdown",
      "source": [
        "### Grupo de Clientes 3\n",
        "Preenchimento opcional"
      ],
      "metadata": {
        "id": "nC9bVPTM8VMO"
      }
    },
    {
      "cell_type": "code",
      "source": [
        "#@markdown ### Breve descrição do grupo 3\n",
        "#@markdown Exemplos: Moradores locais, Turistas, Entusiastas de Café\n",
        "costumer_gp3_desc = 'Eu, que gosto de batata' #@param {type:\"string\"}\n",
        "\n",
        "#@markdown #### Nível de renda do grupo 3\n",
        "costumer_gp3_income = None #@param [\"'Baixa'\", \"'Média'\", \"'Alta'\", \"None\"] {type:\"raw\"}\n",
        "#@markdown Caso queira deixar este parâmetro vazio, selecione a opção `None`\n",
        "\n",
        "#@markdown ---\n",
        "# @markdown *Após preencher as informações não se esqueça de rodar o código clicando no ▶️ logo acima.*\n",
        "\n",
        "if costumer_gp3_desc == '' or costumer_gp3_income == None:\n",
        "  costumer_gp3_desc = None\n",
        "  costumer_gp3_income = None\n",
        "  print(\"Nenhuma informação do grupo 2 foi registrada.\")\n",
        "else:\n",
        "  print(\"Informações salvas com sucesso.\")"
      ],
      "metadata": {
        "id": "sDuluCzJ8VMU",
        "colab": {
          "base_uri": "https://localhost:8080/"
        },
        "outputId": "4aabe40f-0de4-44dc-a5bf-3297e015e963",
        "cellView": "form"
      },
      "execution_count": null,
      "outputs": [
        {
          "output_type": "stream",
          "name": "stdout",
          "text": [
            "Informações salvas com sucesso.\n"
          ]
        }
      ]
    },
    {
      "cell_type": "markdown",
      "source": [
        "## 🚩Produtos e/ou Serviços"
      ],
      "metadata": {
        "id": "htQoE3eo8kHJ"
      }
    },
    {
      "cell_type": "markdown",
      "source": [
        "### Produto ou serviço 01\n",
        "\n",
        "Preenchimento obrigatório"
      ],
      "metadata": {
        "id": "dwtuTIWp9GSn"
      }
    },
    {
      "cell_type": "code",
      "source": [
        "#@markdown ### Nome\n",
        "ps1_name = '' #@param {type:\"string\"}\n",
        "\n",
        "#@markdown ### Descrição\n",
        "ps1_description = '' #@param {type:\"string\"}\n",
        "\n",
        "if ps1_name == '' or ps1_description == '':\n",
        "  raise Exception(\"Por favor, preencha todas as informações corretamente e rode o código novamente antes de prosseguir.\")\n",
        "\n",
        "#@markdown ---\n",
        "# @markdown *Após preencher as informações não se esqueça de rodar o código clicando no ▶️ logo acima.*\n",
        "print(\"Informações salvas com sucesso.\")"
      ],
      "metadata": {
        "cellView": "form",
        "id": "ooTmz3b28yQi",
        "colab": {
          "base_uri": "https://localhost:8080/"
        },
        "outputId": "747e7c7b-2222-4188-8796-0729eadd5c86"
      },
      "execution_count": null,
      "outputs": [
        {
          "output_type": "stream",
          "name": "stdout",
          "text": [
            "Informações salvas com sucesso.\n"
          ]
        }
      ]
    },
    {
      "cell_type": "markdown",
      "source": [
        "### Produto ou serviço 02\n",
        "\n",
        "Preenchimento opcional"
      ],
      "metadata": {
        "id": "255npWfx_OBm"
      }
    },
    {
      "cell_type": "code",
      "source": [
        "#@markdown ### Nome\n",
        "ps2_name = '' #@param {type:\"string\"}\n",
        "\n",
        "#@markdown ### Descrição\n",
        "ps2_description = '' #@param {type:\"string\"}\n",
        "\n",
        "if ps2_name == '' or ps2_description == '':\n",
        "  ps2_name = None\n",
        "  ps2_description = None\n",
        "  print(\"Nenhuma informação do produto 2 foi registrada.\")\n",
        "else:\n",
        "  print(\"Informações salvas com sucesso.\")\n",
        "\n",
        "#@markdown ---\n",
        "# @markdown *Após preencher as informações não se esqueça de rodar o código clicando no ▶️ logo acima.*"
      ],
      "metadata": {
        "id": "hMadn89P_OBt",
        "colab": {
          "base_uri": "https://localhost:8080/"
        },
        "cellView": "form",
        "outputId": "93052ca8-b669-4af0-aa01-746b99aecf45"
      },
      "execution_count": null,
      "outputs": [
        {
          "output_type": "stream",
          "name": "stdout",
          "text": [
            "Nenhuma informação do produto 2 foi registrada.\n"
          ]
        }
      ]
    },
    {
      "cell_type": "markdown",
      "source": [
        "### Produto ou serviço 03\n",
        "\n",
        "Preenchimento opcional"
      ],
      "metadata": {
        "id": "rvU-J8Vu_vP8"
      }
    },
    {
      "cell_type": "code",
      "source": [
        "#@markdown ### Nome\n",
        "ps3_name = '' #@param {type:\"string\"}\n",
        "\n",
        "#@markdown ### Descrição\n",
        "ps3_description = '' #@param {type:\"string\"}\n",
        "\n",
        "if ps3_name == '' or ps3_description == '':\n",
        "  ps3_name = None\n",
        "  ps3_description = None\n",
        "  print(\"Nenhuma informação do produto 3 foi registrada.\")\n",
        "else:\n",
        "  print(\"Informações salvas com sucesso.\")\n",
        "\n",
        "#@markdown ---\n",
        "# @markdown *Após preencher as informações não se esqueça de rodar o código clicando no ▶️ logo acima.*"
      ],
      "metadata": {
        "id": "9II74BaU_vQC",
        "colab": {
          "base_uri": "https://localhost:8080/"
        },
        "cellView": "form",
        "outputId": "5aea960d-0fa9-4fee-8001-31110720cc8b"
      },
      "execution_count": null,
      "outputs": [
        {
          "output_type": "stream",
          "name": "stdout",
          "text": [
            "Nenhuma informação do produto 3 foi registrada.\n"
          ]
        }
      ]
    },
    {
      "cell_type": "markdown",
      "source": [
        "### Produto ou serviço 04\n",
        "\n",
        "Preenchimento opcional"
      ],
      "metadata": {
        "id": "ZVs6rm1O_5xw"
      }
    },
    {
      "cell_type": "code",
      "source": [
        "#@markdown ### Nome\n",
        "ps4_name = '' #@param {type:\"string\"}\n",
        "\n",
        "#@markdown ### Descrição\n",
        "ps4_description = '' #@param {type:\"string\"}\n",
        "\n",
        "if ps4_name == '' or ps4_description == '':\n",
        "  ps4_name = None\n",
        "  ps4_description = None\n",
        "  print(\"Nenhuma informação do produto 4 foi registrada.\")\n",
        "else:\n",
        "  print(\"Informações salvas com sucesso.\")\n",
        "\n",
        "#@markdown ---\n",
        "# @markdown *Após preencher as informações não se esqueça de rodar o código clicando no ▶️ logo acima.*"
      ],
      "metadata": {
        "id": "IG6tt_CI_5xw",
        "colab": {
          "base_uri": "https://localhost:8080/"
        },
        "cellView": "form",
        "outputId": "2a936a2d-4632-4d60-b57e-c1b1fdb258af"
      },
      "execution_count": null,
      "outputs": [
        {
          "output_type": "stream",
          "name": "stdout",
          "text": [
            "Nenhuma informação do produto 4 foi registrada.\n"
          ]
        }
      ]
    },
    {
      "cell_type": "markdown",
      "source": [
        "### Produto ou serviço 05\n",
        "\n",
        "Preenchimento opcional"
      ],
      "metadata": {
        "id": "c5ATEPovABDP"
      }
    },
    {
      "cell_type": "code",
      "source": [
        "#@markdown ### Nome\n",
        "ps5_name = '' #@param {type:\"string\"}\n",
        "\n",
        "#@markdown ### Descrição\n",
        "ps5_description = '' #@param {type:\"string\"}\n",
        "\n",
        "if ps5_name == '' or ps4_description == '':\n",
        "  ps5_name = None\n",
        "  ps5_description = None\n",
        "  print(\"Nenhuma informação do produto 5 foi registrada.\")\n",
        "else:\n",
        "  print(\"Informações salvas com sucesso.\")\n",
        "\n",
        "#@markdown ---\n",
        "# @markdown *Após preencher as informações não se esqueça de rodar o código clicando no ▶️ logo acima.*"
      ],
      "metadata": {
        "cellView": "form",
        "id": "YYc0-PW6ABDV",
        "colab": {
          "base_uri": "https://localhost:8080/"
        },
        "outputId": "26105525-d7b4-4936-a6fd-2173541e62cc"
      },
      "execution_count": null,
      "outputs": [
        {
          "output_type": "stream",
          "name": "stdout",
          "text": [
            "Nenhuma informação do produto 5 foi registrada.\n"
          ]
        }
      ]
    },
    {
      "cell_type": "markdown",
      "source": [
        "## Análise Interna\n",
        "\n",
        "Nessa seção você preencherá os principais pontos de Análise Interna do seu projeto."
      ],
      "metadata": {
        "id": "5DpbBK1dAbKw"
      }
    },
    {
      "cell_type": "markdown",
      "source": [
        "### Forças"
      ],
      "metadata": {
        "id": "zhQCBR5gA25Y"
      }
    },
    {
      "cell_type": "code",
      "source": [
        "#@markdown ####Força 01 *obrigatória*\n",
        "strength_1 = '' #@param {type:\"string\"}\n",
        "#@markdown ####Força 02 *opcional*\n",
        "strength_2 = '' #@param {type:\"string\"}\n",
        "#@markdown ####Força 03 *opcional*\n",
        "strength_3 = '' #@param {type:\"string\"}\n",
        "\n",
        "if strength_1 == '':\n",
        "  raise Exception(\"Por favor, o campo força 01 deve ser preenchido.\")\n",
        "\n",
        "if strength_2 == '':\n",
        "  strength_2 = None\n",
        "  print(\"Obs: Força 02 está em branco.\")\n",
        "\n",
        "if strength_3 == '':\n",
        "  strength_3 = None\n",
        "  print(\"Obs: Força 03 está em branco.\")\n",
        "\n",
        "if strength_1 != None and strength_2 != None and strength_3 != None:\n",
        "  print(\"Todas as forças foram registradas com sucesso.\")\n",
        "\n",
        "#@markdown ---\n",
        "# @markdown *Após preencher as informações não se esqueça de rodar o código clicando no ▶️ logo acima.*\n",
        "print(\"Informações salvas com sucesso.\")\n"
      ],
      "metadata": {
        "colab": {
          "base_uri": "https://localhost:8080/"
        },
        "id": "lQnKYAmGA6iz",
        "outputId": "8dcbb4b3-c5de-4654-9b75-b3b5a632e174",
        "cellView": "form"
      },
      "execution_count": null,
      "outputs": [
        {
          "output_type": "stream",
          "name": "stdout",
          "text": [
            "Obs: Força 02 está em branco.\n",
            "Obs: Força 03 está em branco.\n",
            "Informações salvas com sucesso.\n"
          ]
        }
      ]
    },
    {
      "cell_type": "markdown",
      "source": [
        "### Fraquezas"
      ],
      "metadata": {
        "id": "hY088TedC9Zg"
      }
    },
    {
      "cell_type": "code",
      "source": [
        "#@markdown ####Fraqueza 01 *obrigatória*\n",
        "weakness_1 = '' #@param {type:\"string\"}\n",
        "#@markdown ####Fraqueza 02 *opcional*\n",
        "weakness_2 = '' #@param {type:\"string\"}\n",
        "#@markdown ####Fraqueza 03 *opcional*\n",
        "weakness_3 = '' #@param {type:\"string\"}\n",
        "\n",
        "if weakness_1 == '':\n",
        "  raise Exception(\"Por favor, o campo fraqueza 01 deve ser preenchido.\")\n",
        "\n",
        "if weakness_2 == '':\n",
        "  weakness_2 = None\n",
        "  print(\"Obs: Fraqueza 02 está em branco.\")\n",
        "\n",
        "if weakness_3 == '':\n",
        "  weakness_3 = None\n",
        "  print(\"Obs: Fraqueza 03 está em branco.\")\n",
        "\n",
        "if weakness_1 != None and weakness_2 != None and weakness_3 != None:\n",
        "  print(\"Todas as fraquezas foram registradas com sucesso.\")\n",
        "\n",
        "#@markdown ---\n",
        "# @markdown *Após preencher as informações não se esqueça de rodar o código clicando no ▶️ logo acima.*\n",
        "print(\"Informações salvas com sucesso.\")\n"
      ],
      "metadata": {
        "colab": {
          "base_uri": "https://localhost:8080/"
        },
        "outputId": "63ebd639-dc2f-45d8-bae7-ab40fe8585bb",
        "id": "ybzLtoyKC9Zm",
        "cellView": "form"
      },
      "execution_count": null,
      "outputs": [
        {
          "output_type": "stream",
          "name": "stdout",
          "text": [
            "Todas as fraquezas foram registradas com sucesso.\n",
            "Informações salvas com sucesso.\n"
          ]
        }
      ]
    },
    {
      "cell_type": "markdown",
      "source": [
        "# ✍️Geração do Plano"
      ],
      "metadata": {
        "id": "4ffueeX1-OXt"
      }
    },
    {
      "cell_type": "markdown",
      "source": [
        "## Configuração da API\n",
        "\n",
        "Nessa seção, é necessário configurar a sua chave de API que pode ser gerada em [Google AI Studio](https://aistudio.google.com/app/apikey.)\n",
        "\n",
        "Após gera-lá, crie um secret ao lado esquerdo chamado `apikey` e no campo valor insira a sua chave.\n"
      ],
      "metadata": {
        "id": "ldpaJcoYn20o"
      }
    },
    {
      "cell_type": "code",
      "source": [
        "#@title Configuração da API\n",
        "\n",
        "\"\"\"\n",
        "At the command line, only need to run once to install the package via pip:\n",
        "\n",
        "$ pip install google-generativeai\n",
        "\"\"\"\n",
        "import google.generativeai as genai\n",
        "from google.colab import userdata\n",
        "\n",
        "# Set up the API key\n",
        "genai.configure(api_key=userdata.get('apikey'))\n"
      ],
      "metadata": {
        "cellView": "form",
        "id": "JP_spiLNmz-R"
      },
      "execution_count": null,
      "outputs": []
    },
    {
      "cell_type": "markdown",
      "source": [
        "### Geração do Plano"
      ],
      "metadata": {
        "id": "pP8cP3InslY7"
      }
    },
    {
      "cell_type": "code",
      "source": [
        "#@markdown Após configurar a sua API, você deve clicar no ▶️ aqui ao lado para executar o código e gerar o plano de negócios com base nas informações que você digitou.\n",
        "\n",
        "# Set up the model\n",
        "generation_config = {\n",
        "  \"temperature\": 0.8,\n",
        "  \"top_p\": 0.95,\n",
        "  \"top_k\": 0,\n",
        "  \"max_output_tokens\": 8192,\n",
        "}\n",
        "\n",
        "safety_settings = [\n",
        "  {\n",
        "    \"category\": \"HARM_CATEGORY_HARASSMENT\",\n",
        "    \"threshold\": \"BLOCK_MEDIUM_AND_ABOVE\"\n",
        "  },\n",
        "  {\n",
        "    \"category\": \"HARM_CATEGORY_HATE_SPEECH\",\n",
        "    \"threshold\": \"BLOCK_MEDIUM_AND_ABOVE\"\n",
        "  },\n",
        "  {\n",
        "    \"category\": \"HARM_CATEGORY_SEXUALLY_EXPLICIT\",\n",
        "    \"threshold\": \"BLOCK_MEDIUM_AND_ABOVE\"\n",
        "  },\n",
        "  {\n",
        "    \"category\": \"HARM_CATEGORY_DANGEROUS_CONTENT\",\n",
        "    \"threshold\": \"BLOCK_MEDIUM_AND_ABOVE\"\n",
        "  },\n",
        "]\n",
        "\n",
        "model = genai.GenerativeModel(model_name=\"gemini-1.5-pro-latest\",\n",
        "                              generation_config=generation_config,\n",
        "                              safety_settings=safety_settings)\n",
        "\n",
        "prompt_parts = [\n",
        "  f\"\"\"Você é um renomado administrador de empresas e me auxiliará a escrever um plano de negócios para {business_type} que será terá o seguinte uso:{plan_utility} e contará com a seguinte estrutura:\n",
        "    \\n\\t1. Descrição do negócio\n",
        "      \\n\\t\\tInformações do Negócio:\n",
        "        \\n\\t\\t\\tO Nome do negócio é: {business_name}.\n",
        "        \\n\\t\\t\\tA descrição é: {business_description}.\n",
        "        \\n\\t\\t\\tÉ uma empresa do ramo de {business_branch} que contará com {business_employees} funcionários, além do dono.\n",
        "        \\n\\t\\t\\tVende seus produtos através de {business_sales_method if business_sales_method != \"Ambos\" else \"Loja Online e Loja Física\" }.\n",
        "        \\n\\t\\t\\tO negócio atuará na região: {business_location}.\n",
        "\n",
        "      \\n\\t\\t\\tProdutos e serviços:\n",
        "        \\n\\t\\t\\t\\tProduto ou serviço 01: {ps1_name}\n",
        "         \\n\\t\\t\\t\\t\\tDescrição: {ps1_description}\n",
        "        \\n\\t\\t\\t\\tProduto ou serviço 02: {ps2_name}\n",
        "          \\n\\t\\t\\t\\t\\tDescrição: {ps2_description}\n",
        "        \\n\\t\\t\\t\\tProduto ou serviço 03: {ps3_name}\n",
        "         \\n\\t\\t\\t\\t\\tDescrição: {ps3_description}\n",
        "        \\n\\t\\t\\t\\tProduto ou serviço 04: {ps4_name}\n",
        "         \\n\\t\\t\\t\\t\\tDescrição: {ps4_description}\n",
        "        \\n\\t\\t\\t\\tProduto ou serviço 05: {ps5_name}\n",
        "         \\n\\t\\t\\t\\t\\tDescrição: {ps5_description}\n",
        "      \\n\\t\\tPara este tópico, utilizando de seu conhecimento e das informações acima, escreva uma profunda revisão do negócio. A missão desta seção é explicar ao leitor o conceito do negócio e sua proposta de valor. Seu texto será importado diretamente ao arquivo final, portanto inicie sua resposta diretamente no texto final. Escreva pelo menos 4 parágrafos.\n",
        "\n",
        "      \\n\\t\\n2. Histórico da Indústria:\n",
        "      \\n\\t\\tFalar sobre o formato, tamanho, tendências, e características importantes da indústria em que o negócio está inserido. No texto a ser escrito ponderar as seguintes questões:\n",
        "      \\n\\t\\t\\t- Qual a industria?\n",
        "      \\n\\t\\t\\t- Quais são os principais competidores desse mercado?\n",
        "      \\n\\t\\t\\t- Quais são as barreiras de entrada desse setor?\n",
        "\n",
        "      \\n\\t\\n3. Análise competitiva:\n",
        "        \\n\\tLeia o texto gerado até aqui. Nessa seção gere uma Análise SWOT para o negócio. Após, revise a análise SWOT em 1 paragráfo de texto.\n",
        "\n",
        "      \\n\\n4. Análise de Mercado\n",
        "      \\n\\tLeia o texto gerado até aqui. O foco aqui é demonstrar que realmente já uma abertura para o negócio no mercado. Escreva no minimo 3 parágrafos.\n",
        "\n",
        "      \\n\\n5. Plano de Marketing\n",
        "        \\n\\tGrupo de clientes 01:\n",
        "          \\n\\t\\tDescrição: {costumer_gp1_desc}\n",
        "          \\n\\t\\tNível de renda: {costumer_gp1_income}\n",
        "        \\n\\tGrupo de Clientes 02:\n",
        "          \\n\\t\\tDescrição: {costumer_gp2_desc}\n",
        "          \\n\\t\\tNível de Renda: {costumer_gp2_income}\n",
        "        \\n\\tGrupo de Clientes 03:\n",
        "          \\n\\t\\tDescrição: {costumer_gp3_desc}\n",
        "          \\n\\t\\tNível de Renda: {costumer_gp3_income}\n",
        "      \\n\\tCrie um plano de marketing e/ou uma estratégia detalhada de como os produtos serão vendidos.  Foco na proposta de valor do negócio e no comportamento dos clientes.\"\"\",\n",
        "]\n",
        "\n",
        "# print(prompt_parts[0])\n",
        "\n",
        "response = model.generate_content(prompt_parts)\n",
        "\n",
        "#print(response.text)\n",
        "\n",
        "#Melhorando a visualização\n",
        "#Código disponível em https://ai.google.dev/tutorials/python_quickstart#import_packages\n",
        "import textwrap\n",
        "from IPython.display import display\n",
        "from IPython.display import Markdown\n",
        "\n",
        "display(Markdown(response.text))"
      ],
      "metadata": {
        "colab": {
          "base_uri": "https://localhost:8080/",
          "height": 1000
        },
        "id": "7SdCBAgr_B3Y",
        "outputId": "1b898379-487c-460d-b47a-91894310bdce",
        "cellView": "form"
      },
      "execution_count": 34,
      "outputs": [
        {
          "output_type": "display_data",
          "data": {
            "text/plain": [
              "<IPython.core.display.Markdown object>"
            ],
            "text/markdown": "## 1. Descrição do Negócio\n\nBatatatinha123 surge com uma proposta inovadora no mercado de Pindamonhangaba: ser o paraíso para os amantes de batata. Mais do que uma simples loja, queremos oferecer uma experiência completa, explorando a versatilidade deste tubérculo tão popular. Nosso cardápio contará com diversas opções, desde a tradicional batata frita, passando por batatas assadas, empanadas, até criações culinárias mais elaboradas que exploram diferentes sabores e texturas. \n\nA Batatatinha123 se diferencia pela qualidade de seus produtos e pelo atendimento personalizado. Buscamos os melhores fornecedores de batata, priorizando a procedência e o frescor dos ingredientes. Nossa equipe será treinada para oferecer um atendimento acolhedor e eficiente, buscando sempre a satisfação do cliente. \n\nAcreditamos que a localização em Pindamonhangaba oferece um grande potencial de crescimento, devido ao público diversificado e à falta de um estabelecimento especializado em batata na região. Nosso objetivo é nos tornarmos referência no segmento, conquistando o público local e atraindo visitantes de outras cidades.\n\nA Batatatinha123 tem como missão oferecer uma experiência única aos seus clientes, através de produtos de alta qualidade, atendimento diferenciado e um ambiente acolhedor. Buscamos ser reconhecidos como a melhor opção para quem busca saborear a batata em suas mais diversas formas, tornando-nos um ponto de encontro para apreciadores da culinária e amantes da batata. \n\n\n## 2. Histórico da Indústria\n\nA indústria alimentícia é vasta e diversificada, com um mercado altamente competitivo. Dentro desse universo, o segmento de restaurantes e lanchonetes, no qual a Batatatinha123 se insere, apresenta um grande número de players, desde grandes redes de fast-food até pequenos estabelecimentos locais. \n\nEm Pindamonhangaba, a concorrência nesse setor é acirrada, com a presença de restaurantes, lanchonetes, food trucks e estabelecimentos que oferecem refeições rápidas. No entanto, a Batatatinha123 se destaca por sua especialização em batata, um produto com alta demanda e versatilidade, mas que ainda não possui um estabelecimento dedicado exclusivamente a ele na cidade. \n\nAs principais barreiras de entrada nesse setor são a alta competitividade, a necessidade de investimento inicial para a aquisição de equipamentos e insumos, e a exigência por um bom ponto comercial com alta circulação de pessoas. A Batatatinha123 se preparou para superar esses desafios através de um plano de negócios sólido, uma proposta de valor diferenciada e uma equipe qualificada para oferecer produtos e serviços de excelência.\n\n\n## 3. Análise Competitiva\n\n**Análise SWOT:**\n\n**Forças:**\n\n* Proposta inovadora e diferenciada no mercado local.\n* Foco em um produto popular e versátil: a batata.\n* Busca por ingredientes de alta qualidade e fornecedores confiáveis.\n* Equipe qualificada e dedicada ao bom atendimento.\n\n**Fraquezas:**\n\n* Empresa nova no mercado, sem histórico de atuação.\n* Necessidade de investimento inicial para estruturação do negócio.\n* Dependência de fornecedores para o abastecimento de insumos.\n\n**Oportunidades:**\n\n* Crescimento do mercado de alimentação fora do lar.\n* Aumento da demanda por produtos especializados e de qualidade.\n* Possibilidade de expansão do negócio para outras regiões.\n\n**Ameaças:**\n\n* Alta competitividade no setor de alimentação.\n* Variação nos preços dos insumos, principalmente da batata.\n* Mudanças nos hábitos de consumo dos clientes.\n\nEm resumo, a Batatatinha123 apresenta um grande potencial de sucesso, com uma proposta inovadora e um mercado promissor. No entanto, é fundamental estar atento aos desafios da alta competitividade e da necessidade de constante adaptação às demandas do mercado. \n\n## 4. Análise de Mercado\n\nPindamonhangaba, com sua população diversificada e economia em constante desenvolvimento, demonstra um forte potencial para a Batatatinha123.  A cidade carece de um estabelecimento especializado em batata, o que cria uma oportunidade única para a empresa. Observamos um crescente interesse por parte dos consumidores em opções de alimentação saborosas, práticas e com preços acessíveis. A Batatatinha123 se encaixa perfeitamente nesse cenário, oferecendo um cardápio variado com diferentes tipos de batata a preços competitivos.\n\nA localização estratégica da loja física, em uma área de alta circulação de pessoas, visa atrair um público amplo, desde trabalhadores em busca de refeições rápidas até famílias que desejam desfrutar de uma refeição saborosa e diferenciada. A pesquisa de mercado realizada indica uma alta demanda por produtos à base de batata, confirmando a viabilidade do negócio e o potencial de sucesso da Batatatinha123.\n\nA análise do mercado local demonstra que existe um espaço a ser explorado no segmento de alimentação, especialmente para um negócio especializado em batata.  A Batatatinha123, com sua proposta inovadora e foco na qualidade, tem tudo para se destacar nesse mercado e conquistar um público fiel em Pindamonhangaba.\n\n\n## 5. Plano de Marketing\n\nA estratégia de marketing da Batatatinha123 será focada em gerar reconhecimento da marca, atrair clientes e fidelizar o público, utilizando diferentes canais e ações para alcançar os grupos de clientes:\n\n**Proposta de Valor:**  Oferecer uma experiência única e saborosa com foco na versatilidade da batata, a preços acessíveis e com atendimento de excelência.\n\n**Comportamento dos Clientes:** O plano de marketing considera o comportamento dos clientes em relação à busca por opções de alimentação saborosas, práticas e com bom custo-benefício.\n\n**Estratégias:**\n\n* **Marketing Digital:**\n    * Criação de perfis nas redes sociais (Instagram, Facebook) com conteúdo atrativo sobre os produtos, promoções e dicas culinárias.\n    * Investimento em anúncios online segmentados para o público-alvo da região.\n    * Parcerias com influenciadores digitais gastronômicos para divulgação da marca.\n* **Marketing Tradicional:**\n    * Distribuição de panfletos e folders promocionais em pontos estratégicos da cidade.\n    * Participação em eventos gastronômicos locais para apresentar os produtos e a marca.\n    * Criação de um programa de fidelidade com benefícios exclusivos para clientes frequentes.\n* **Marketing de Relacionamento:**\n    * Oferecer um atendimento personalizado e acolhedor, buscando criar uma conexão com os clientes.\n    * Realização de pesquisas de satisfação para identificar as preferências dos clientes e ajustar as estratégias.\n    * Promoção de eventos especiais na loja, como degustações, workshops culinários e noites temáticas.\n\n**Comunicação:** \n\nA linguagem utilizada nas peças publicitárias será informal, divertida e próxima ao público-alvo, com foco em destacar o sabor, a qualidade e a versatilidade dos produtos da Batatatinha123. As imagens utilizadas serão apetitosas e convidativas, mostrando a variedade de pratos e acompanhamentos disponíveis. \n\n**Monitoramento:** \n\nAs ações de marketing serão monitoradas constantemente para avaliar o retorno do investimento, o alcance do público e a efetividade das estratégias. As métricas de desempenho serão analisadas para realizar os ajustes necessários e otimizar as campanhas.\n\nAcreditamos que a combinação de estratégias de marketing digital, tradicional e de relacionamento, com foco na proposta de valor e no comportamento dos clientes, será fundamental para o sucesso da Batatatinha123 em Pindamonhangaba. \n"
          },
          "metadata": {}
        }
      ]
    }
  ]
}